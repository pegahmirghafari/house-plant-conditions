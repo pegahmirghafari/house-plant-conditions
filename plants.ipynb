{
  "nbformat": 4,
  "nbformat_minor": 0,
  "metadata": {
    "kernelspec": {
      "display_name": "Python 3",
      "language": "python",
      "name": "python3"
    },
    "language_info": {
      "codemirror_mode": {
        "name": "ipython",
        "version": 3
      },
      "file_extension": ".py",
      "mimetype": "text/x-python",
      "name": "python",
      "nbconvert_exporter": "python",
      "pygments_lexer": "ipython3",
      "version": "3.8.5"
    },
    "colab": {
      "name": "plants.ipynb",
      "provenance": [],
      "collapsed_sections": []
    }
  },
  "cells": [
    {
      "cell_type": "markdown",
      "metadata": {
        "id": "3biWUq38aWgN"
      },
      "source": [
        "### I will be importing my libarries"
      ]
    },
    {
      "cell_type": "code",
      "metadata": {
        "id": "9XgGTRbXaWgZ"
      },
      "source": [
        "import pandas as pd\n",
        "import re\n",
        "import numpy as np\n",
        "import matplotlib.pyplot as plt\n",
        "import seaborn as sns"
      ],
      "execution_count": 1,
      "outputs": []
    },
    {
      "cell_type": "markdown",
      "metadata": {
        "id": "j2iaAVxXaWgc"
      },
      "source": [
        "### importing the data set"
      ]
    },
    {
      "cell_type": "code",
      "metadata": {
        "id": "CQP9qtKiaWgc"
      },
      "source": [
        "df= pd.read_csv('plants.csv',index_col='Unnamed: 0')"
      ],
      "execution_count": 3,
      "outputs": []
    },
    {
      "cell_type": "markdown",
      "metadata": {
        "id": "Kh4FKVzcaWgd"
      },
      "source": [
        "### first look"
      ]
    },
    {
      "cell_type": "code",
      "metadata": {
        "colab": {
          "base_uri": "https://localhost:8080/",
          "height": 1000
        },
        "id": "N0Y7ZkHOaWgd",
        "outputId": "d7996a4e-b8ad-4b48-97ff-e0ac241860d8"
      },
      "source": [
        "df"
      ],
      "execution_count": 4,
      "outputs": [
        {
          "output_type": "execute_result",
          "data": {
            "text/html": [
              "<div>\n",
              "<style scoped>\n",
              "    .dataframe tbody tr th:only-of-type {\n",
              "        vertical-align: middle;\n",
              "    }\n",
              "\n",
              "    .dataframe tbody tr th {\n",
              "        vertical-align: top;\n",
              "    }\n",
              "\n",
              "    .dataframe thead th {\n",
              "        text-align: right;\n",
              "    }\n",
              "</style>\n",
              "<table border=\"1\" class=\"dataframe\">\n",
              "  <thead>\n",
              "    <tr style=\"text-align: right;\">\n",
              "      <th></th>\n",
              "      <th>0</th>\n",
              "      <th>1</th>\n",
              "    </tr>\n",
              "  </thead>\n",
              "  <tbody>\n",
              "    <tr>\n",
              "      <th>0</th>\n",
              "      <td>5657.0</td>\n",
              "      <td>10526:Menyanthaceae:P</td>\n",
              "    </tr>\n",
              "    <tr>\n",
              "      <th>1</th>\n",
              "      <td>9594.0</td>\n",
              "      <td>10399:Cyclanthaceae:P</td>\n",
              "    </tr>\n",
              "    <tr>\n",
              "      <th>2</th>\n",
              "      <td>138.0</td>\n",
              "      <td>10691:Myristicaceae:S</td>\n",
              "    </tr>\n",
              "    <tr>\n",
              "      <th>3</th>\n",
              "      <td>4339.0</td>\n",
              "      <td>10521:Limnanthaceae:P</td>\n",
              "    </tr>\n",
              "    <tr>\n",
              "      <th>4</th>\n",
              "      <td>9070.0</td>\n",
              "      <td>10902:Aphanopetalaceae:P~8777:Onagraceae:S</td>\n",
              "    </tr>\n",
              "    <tr>\n",
              "      <th>5</th>\n",
              "      <td>2520.0</td>\n",
              "      <td>9947:Resedaceae:P~10915:Annonaceae:S</td>\n",
              "    </tr>\n",
              "    <tr>\n",
              "      <th>6</th>\n",
              "      <td>3708.0</td>\n",
              "      <td>10989:Philydraceae:P~10540:Corsiaceae:P~10543:...</td>\n",
              "    </tr>\n",
              "    <tr>\n",
              "      <th>7</th>\n",
              "      <td>3287.0</td>\n",
              "      <td>8777:Achariaceae:S</td>\n",
              "    </tr>\n",
              "    <tr>\n",
              "      <th>8</th>\n",
              "      <td>5041.0</td>\n",
              "      <td>10689:Lactoridaceae:P</td>\n",
              "    </tr>\n",
              "    <tr>\n",
              "      <th>9</th>\n",
              "      <td>8802.0</td>\n",
              "      <td>10518:Drosophyllaceae:P</td>\n",
              "    </tr>\n",
              "    <tr>\n",
              "      <th>10</th>\n",
              "      <td>8481.0</td>\n",
              "      <td>10544:Siparunaceae:S</td>\n",
              "    </tr>\n",
              "    <tr>\n",
              "      <th>11</th>\n",
              "      <td>517.0</td>\n",
              "      <td>10516:Juglandaceae:P~8777:Anarthriaceae:S~1051...</td>\n",
              "    </tr>\n",
              "    <tr>\n",
              "      <th>12</th>\n",
              "      <td>1714.0</td>\n",
              "      <td>10395:Dioscoreaceae:Q~8777:Gunneraceae:S</td>\n",
              "    </tr>\n",
              "    <tr>\n",
              "      <th>13</th>\n",
              "      <td>1169.0</td>\n",
              "      <td>10699:Typhaceae:P</td>\n",
              "    </tr>\n",
              "    <tr>\n",
              "      <th>14</th>\n",
              "      <td>1061.0</td>\n",
              "      <td>10517:Proteaceae:P~10915:Sphenocleaceae:S</td>\n",
              "    </tr>\n",
              "    <tr>\n",
              "      <th>15</th>\n",
              "      <td>31.0</td>\n",
              "      <td>11138:Barbeyaceae:P</td>\n",
              "    </tr>\n",
              "    <tr>\n",
              "      <th>16</th>\n",
              "      <td>4370.0</td>\n",
              "      <td>10519:Iridaceae:S~10516:Emblingiaceae:S~10915:...</td>\n",
              "    </tr>\n",
              "    <tr>\n",
              "      <th>17</th>\n",
              "      <td>6862.0</td>\n",
              "      <td>10503:Balsaminaceae:P</td>\n",
              "    </tr>\n",
              "    <tr>\n",
              "      <th>18</th>\n",
              "      <td>5207.0</td>\n",
              "      <td>NaN</td>\n",
              "    </tr>\n",
              "    <tr>\n",
              "      <th>19</th>\n",
              "      <td>642.0</td>\n",
              "      <td>10520:Musaceae:S</td>\n",
              "    </tr>\n",
              "    <tr>\n",
              "      <th>20</th>\n",
              "      <td>7850.0</td>\n",
              "      <td>NaN</td>\n",
              "    </tr>\n",
              "    <tr>\n",
              "      <th>21</th>\n",
              "      <td>2437.0</td>\n",
              "      <td>10507:Petermanniaceae:S~8781:Canellaceae:S~109...</td>\n",
              "    </tr>\n",
              "    <tr>\n",
              "      <th>22</th>\n",
              "      <td>138.0</td>\n",
              "      <td>8781:Ceratophyllaceae:S~8777:Droseraceae:S~105...</td>\n",
              "    </tr>\n",
              "    <tr>\n",
              "      <th>23</th>\n",
              "      <td>3775.0</td>\n",
              "      <td>10692:Scrophulariaceae:P</td>\n",
              "    </tr>\n",
              "    <tr>\n",
              "      <th>24</th>\n",
              "      <td>5952.0</td>\n",
              "      <td>10545:Zosteraceae:P</td>\n",
              "    </tr>\n",
              "    <tr>\n",
              "      <th>25</th>\n",
              "      <td>3483.0</td>\n",
              "      <td>10510:Atherospermataceae:P</td>\n",
              "    </tr>\n",
              "    <tr>\n",
              "      <th>26</th>\n",
              "      <td>352.0</td>\n",
              "      <td>10841:Circaeasteraceae:P~10520:Balanopaceae::</td>\n",
              "    </tr>\n",
              "    <tr>\n",
              "      <th>27</th>\n",
              "      <td>4626.0</td>\n",
              "      <td>10969:Helwingiaceae:P</td>\n",
              "    </tr>\n",
              "    <tr>\n",
              "      <th>28</th>\n",
              "      <td>1146.0</td>\n",
              "      <td>11150:Calycanthaceae:S~10399:Crassulaceae:S~10...</td>\n",
              "    </tr>\n",
              "    <tr>\n",
              "      <th>29</th>\n",
              "      <td>1376.0</td>\n",
              "      <td>10527:Tecophilaeaceae:P</td>\n",
              "    </tr>\n",
              "    <tr>\n",
              "      <th>30</th>\n",
              "      <td>5673.0</td>\n",
              "      <td>10688:Pandaceae:S</td>\n",
              "    </tr>\n",
              "    <tr>\n",
              "      <th>31</th>\n",
              "      <td>6218.0</td>\n",
              "      <td>10523:Geissolomataceae:P</td>\n",
              "    </tr>\n",
              "    <tr>\n",
              "      <th>32</th>\n",
              "      <td>8815.0</td>\n",
              "      <td>NaN</td>\n",
              "    </tr>\n",
              "    <tr>\n",
              "      <th>33</th>\n",
              "      <td>5847.0</td>\n",
              "      <td>9798:Lactoridaceae:P</td>\n",
              "    </tr>\n",
              "    <tr>\n",
              "      <th>34</th>\n",
              "      <td>7784.0</td>\n",
              "      <td>NaN</td>\n",
              "    </tr>\n",
              "    <tr>\n",
              "      <th>35</th>\n",
              "      <td>3688.0</td>\n",
              "      <td>NaN</td>\n",
              "    </tr>\n",
              "    <tr>\n",
              "      <th>36</th>\n",
              "      <td>1152.0</td>\n",
              "      <td>10778:Bruniaceae:P~10689:Olacaceae:S</td>\n",
              "    </tr>\n",
              "    <tr>\n",
              "      <th>37</th>\n",
              "      <td>459.0</td>\n",
              "      <td>10525:Commelinaceae:P</td>\n",
              "    </tr>\n",
              "    <tr>\n",
              "      <th>38</th>\n",
              "      <td>9606.0</td>\n",
              "      <td>10524:Gelsemiaceae:P</td>\n",
              "    </tr>\n",
              "    <tr>\n",
              "      <th>39</th>\n",
              "      <td>5599.0</td>\n",
              "      <td>10323:Stachyuraceae:P</td>\n",
              "    </tr>\n",
              "    <tr>\n",
              "      <th>40</th>\n",
              "      <td>101.0</td>\n",
              "      <td>NaN</td>\n",
              "    </tr>\n",
              "    <tr>\n",
              "      <th>41</th>\n",
              "      <td>8725.0</td>\n",
              "      <td>10675:Polygalaceae:S~10384:Thomandersiaceae:S~...</td>\n",
              "    </tr>\n",
              "    <tr>\n",
              "      <th>42</th>\n",
              "      <td>586.0</td>\n",
              "      <td>8785:Platanaceae:P</td>\n",
              "    </tr>\n",
              "    <tr>\n",
              "      <th>43</th>\n",
              "      <td>7693.0</td>\n",
              "      <td>10543:Xyridaceae:S</td>\n",
              "    </tr>\n",
              "    <tr>\n",
              "      <th>44</th>\n",
              "      <td>871.0</td>\n",
              "      <td>10511::P</td>\n",
              "    </tr>\n",
              "    <tr>\n",
              "      <th>45</th>\n",
              "      <td>9188.0</td>\n",
              "      <td>10432:Anisophylleaceae:P</td>\n",
              "    </tr>\n",
              "    <tr>\n",
              "      <th>46</th>\n",
              "      <td>3893.0</td>\n",
              "      <td>10398:Iteaceae:P</td>\n",
              "    </tr>\n",
              "    <tr>\n",
              "      <th>47</th>\n",
              "      <td>9718.0</td>\n",
              "      <td>10968:Cardiopteridaceae:P</td>\n",
              "    </tr>\n",
              "    <tr>\n",
              "      <th>48</th>\n",
              "      <td>5515.0</td>\n",
              "      <td>15337:Aphloiaceae:P</td>\n",
              "    </tr>\n",
              "    <tr>\n",
              "      <th>49</th>\n",
              "      <td>8550.0</td>\n",
              "      <td>10675:Fagaceae:P</td>\n",
              "    </tr>\n",
              "    <tr>\n",
              "      <th>50</th>\n",
              "      <td>1487.0</td>\n",
              "      <td>11154:Buxaceae:S</td>\n",
              "    </tr>\n",
              "    <tr>\n",
              "      <th>51</th>\n",
              "      <td>8096.0</td>\n",
              "      <td>10971:Montiniaceae:P</td>\n",
              "    </tr>\n",
              "    <tr>\n",
              "      <th>52</th>\n",
              "      <td>5037.0</td>\n",
              "      <td>10964:Huaceae:P~10503:Limeaceae:S</td>\n",
              "    </tr>\n",
              "    <tr>\n",
              "      <th>53</th>\n",
              "      <td>7812.0</td>\n",
              "      <td>13301:Berberidaceae:S~10544:Potamogetonaceae:S</td>\n",
              "    </tr>\n",
              "    <tr>\n",
              "      <th>54</th>\n",
              "      <td>87.0</td>\n",
              "      <td>10512:Gesneriaceae:S</td>\n",
              "    </tr>\n",
              "    <tr>\n",
              "      <th>55</th>\n",
              "      <td>2064.0</td>\n",
              "      <td>10540:Koeberliniaceae:P</td>\n",
              "    </tr>\n",
              "    <tr>\n",
              "      <th>56</th>\n",
              "      <td>898.0</td>\n",
              "      <td>10513:Marcgraviaceae:P</td>\n",
              "    </tr>\n",
              "  </tbody>\n",
              "</table>\n",
              "</div>"
            ],
            "text/plain": [
              "         0                                                  1\n",
              "0   5657.0                              10526:Menyanthaceae:P\n",
              "1   9594.0                              10399:Cyclanthaceae:P\n",
              "2    138.0                              10691:Myristicaceae:S\n",
              "3   4339.0                              10521:Limnanthaceae:P\n",
              "4   9070.0         10902:Aphanopetalaceae:P~8777:Onagraceae:S\n",
              "5   2520.0               9947:Resedaceae:P~10915:Annonaceae:S\n",
              "6   3708.0  10989:Philydraceae:P~10540:Corsiaceae:P~10543:...\n",
              "7   3287.0                                 8777:Achariaceae:S\n",
              "8   5041.0                              10689:Lactoridaceae:P\n",
              "9   8802.0                            10518:Drosophyllaceae:P\n",
              "10  8481.0                               10544:Siparunaceae:S\n",
              "11   517.0  10516:Juglandaceae:P~8777:Anarthriaceae:S~1051...\n",
              "12  1714.0           10395:Dioscoreaceae:Q~8777:Gunneraceae:S\n",
              "13  1169.0                                  10699:Typhaceae:P\n",
              "14  1061.0          10517:Proteaceae:P~10915:Sphenocleaceae:S\n",
              "15    31.0                                11138:Barbeyaceae:P\n",
              "16  4370.0  10519:Iridaceae:S~10516:Emblingiaceae:S~10915:...\n",
              "17  6862.0                              10503:Balsaminaceae:P\n",
              "18  5207.0                                                NaN\n",
              "19   642.0                                   10520:Musaceae:S\n",
              "20  7850.0                                                NaN\n",
              "21  2437.0  10507:Petermanniaceae:S~8781:Canellaceae:S~109...\n",
              "22   138.0  8781:Ceratophyllaceae:S~8777:Droseraceae:S~105...\n",
              "23  3775.0                           10692:Scrophulariaceae:P\n",
              "24  5952.0                                10545:Zosteraceae:P\n",
              "25  3483.0                         10510:Atherospermataceae:P\n",
              "26   352.0      10841:Circaeasteraceae:P~10520:Balanopaceae::\n",
              "27  4626.0                              10969:Helwingiaceae:P\n",
              "28  1146.0  11150:Calycanthaceae:S~10399:Crassulaceae:S~10...\n",
              "29  1376.0                            10527:Tecophilaeaceae:P\n",
              "30  5673.0                                  10688:Pandaceae:S\n",
              "31  6218.0                           10523:Geissolomataceae:P\n",
              "32  8815.0                                                NaN\n",
              "33  5847.0                               9798:Lactoridaceae:P\n",
              "34  7784.0                                                NaN\n",
              "35  3688.0                                                NaN\n",
              "36  1152.0               10778:Bruniaceae:P~10689:Olacaceae:S\n",
              "37   459.0                              10525:Commelinaceae:P\n",
              "38  9606.0                               10524:Gelsemiaceae:P\n",
              "39  5599.0                              10323:Stachyuraceae:P\n",
              "40   101.0                                                NaN\n",
              "41  8725.0  10675:Polygalaceae:S~10384:Thomandersiaceae:S~...\n",
              "42   586.0                                 8785:Platanaceae:P\n",
              "43  7693.0                                 10543:Xyridaceae:S\n",
              "44   871.0                                           10511::P\n",
              "45  9188.0                           10432:Anisophylleaceae:P\n",
              "46  3893.0                                   10398:Iteaceae:P\n",
              "47  9718.0                          10968:Cardiopteridaceae:P\n",
              "48  5515.0                                15337:Aphloiaceae:P\n",
              "49  8550.0                                   10675:Fagaceae:P\n",
              "50  1487.0                                   11154:Buxaceae:S\n",
              "51  8096.0                               10971:Montiniaceae:P\n",
              "52  5037.0                  10964:Huaceae:P~10503:Limeaceae:S\n",
              "53  7812.0     13301:Berberidaceae:S~10544:Potamogetonaceae:S\n",
              "54    87.0                               10512:Gesneriaceae:S\n",
              "55  2064.0                            10540:Koeberliniaceae:P\n",
              "56   898.0                             10513:Marcgraviaceae:P"
            ]
          },
          "metadata": {},
          "execution_count": 4
        }
      ]
    },
    {
      "cell_type": "code",
      "metadata": {
        "colab": {
          "base_uri": "https://localhost:8080/"
        },
        "id": "VPP_M371aWgf",
        "outputId": "55aece34-7d8b-49da-bac3-11528ebe475d"
      },
      "source": [
        "df.shape"
      ],
      "execution_count": 5,
      "outputs": [
        {
          "output_type": "execute_result",
          "data": {
            "text/plain": [
              "(57, 2)"
            ]
          },
          "metadata": {},
          "execution_count": 5
        }
      ]
    },
    {
      "cell_type": "code",
      "metadata": {
        "id": "vH8uDo6ZaWgg"
      },
      "source": [
        "# renaming the columns\n",
        "df.rename(columns={'0': 'id', '1': 'plant'},inplace=True)"
      ],
      "execution_count": 6,
      "outputs": []
    },
    {
      "cell_type": "code",
      "metadata": {
        "id": "vTfWj06YaWgh"
      },
      "source": [
        "#changing id's to int\n",
        "df['id'] = df['id'].astype(int)"
      ],
      "execution_count": 7,
      "outputs": []
    },
    {
      "cell_type": "code",
      "metadata": {
        "colab": {
          "base_uri": "https://localhost:8080/"
        },
        "id": "1sAyj1AvaWgq",
        "outputId": "a5f648af-a830-4647-be12-d219effa4974"
      },
      "source": [
        "#looking to see if there are duplicates\n",
        "df['id'].value_counts().head()"
      ],
      "execution_count": 8,
      "outputs": [
        {
          "output_type": "execute_result",
          "data": {
            "text/plain": [
              "138     2\n",
              "3708    1\n",
              "2437    1\n",
              "3893    1\n",
              "1714    1\n",
              "Name: id, dtype: int64"
            ]
          },
          "metadata": {},
          "execution_count": 8
        }
      ]
    },
    {
      "cell_type": "code",
      "metadata": {
        "colab": {
          "base_uri": "https://localhost:8080/",
          "height": 111
        },
        "id": "1OdlbTo8aWgs",
        "outputId": "c89e3fde-6ae8-4bf2-9bb9-aaaf70605170"
      },
      "source": [
        "#since the information here is not duplicated I just left it be, I have code later on that drops duplicates\n",
        "#person 138 is going to have 5 diffrent enteries anyways therefor I don't see the need of merging the two rows\n",
        "df[df['id']==138]"
      ],
      "execution_count": 9,
      "outputs": [
        {
          "output_type": "execute_result",
          "data": {
            "text/html": [
              "<div>\n",
              "<style scoped>\n",
              "    .dataframe tbody tr th:only-of-type {\n",
              "        vertical-align: middle;\n",
              "    }\n",
              "\n",
              "    .dataframe tbody tr th {\n",
              "        vertical-align: top;\n",
              "    }\n",
              "\n",
              "    .dataframe thead th {\n",
              "        text-align: right;\n",
              "    }\n",
              "</style>\n",
              "<table border=\"1\" class=\"dataframe\">\n",
              "  <thead>\n",
              "    <tr style=\"text-align: right;\">\n",
              "      <th></th>\n",
              "      <th>id</th>\n",
              "      <th>plant</th>\n",
              "    </tr>\n",
              "  </thead>\n",
              "  <tbody>\n",
              "    <tr>\n",
              "      <th>2</th>\n",
              "      <td>138</td>\n",
              "      <td>10691:Myristicaceae:S</td>\n",
              "    </tr>\n",
              "    <tr>\n",
              "      <th>22</th>\n",
              "      <td>138</td>\n",
              "      <td>8781:Ceratophyllaceae:S~8777:Droseraceae:S~105...</td>\n",
              "    </tr>\n",
              "  </tbody>\n",
              "</table>\n",
              "</div>"
            ],
            "text/plain": [
              "     id                                              plant\n",
              "2   138                              10691:Myristicaceae:S\n",
              "22  138  8781:Ceratophyllaceae:S~8777:Droseraceae:S~105..."
            ]
          },
          "metadata": {},
          "execution_count": 9
        }
      ]
    },
    {
      "cell_type": "code",
      "metadata": {
        "colab": {
          "base_uri": "https://localhost:8080/"
        },
        "id": "jsAuMDvqaWgt",
        "outputId": "77b2a46c-8c52-4db0-ddf9-fab9a43d26aa"
      },
      "source": [
        "# taking a look and see if there are any nulls\n",
        "df.isnull().sum()"
      ],
      "execution_count": 10,
      "outputs": [
        {
          "output_type": "execute_result",
          "data": {
            "text/plain": [
              "id       0\n",
              "plant    6\n",
              "dtype: int64"
            ]
          },
          "metadata": {},
          "execution_count": 10
        }
      ]
    },
    {
      "cell_type": "code",
      "metadata": {
        "id": "hHt-a6UtaWgt"
      },
      "source": [
        "#I will drop the people who don't have any plants, as I don't think it makes sence to keep a tally of them, \n",
        "df.dropna(inplace=True)\n",
        "df.reset_index(inplace=True)\n",
        "df.drop(columns='index',inplace= True)"
      ],
      "execution_count": 11,
      "outputs": []
    },
    {
      "cell_type": "code",
      "metadata": {
        "colab": {
          "base_uri": "https://localhost:8080/"
        },
        "id": "kvlQu_aPaWgu",
        "outputId": "5983739b-f6e3-4898-bfd5-7c29f6482ca8"
      },
      "source": [
        "df.shape"
      ],
      "execution_count": 12,
      "outputs": [
        {
          "output_type": "execute_result",
          "data": {
            "text/plain": [
              "(51, 2)"
            ]
          },
          "metadata": {},
          "execution_count": 12
        }
      ]
    },
    {
      "cell_type": "markdown",
      "metadata": {
        "id": "cR2-0qeraWgv"
      },
      "source": [
        "### I will regex the plant Id, name, and conditions and tally the number of plants per person"
      ]
    },
    {
      "cell_type": "code",
      "metadata": {
        "id": "D6MrI4e5aWgv"
      },
      "source": [
        "#first I need to seperate each plant, its condition and it's id\n",
        "df=df.drop('plant', axis=1).join(df['plant'].str.split('~', expand=True).stack().reset_index(level=1, drop=True).rename('plant'))\n",
        "\n",
        "\n",
        "\n"
      ],
      "execution_count": 13,
      "outputs": []
    },
    {
      "cell_type": "code",
      "metadata": {
        "id": "rcMIascCaWgw"
      },
      "source": [
        "# i will drop duplicates here \n",
        "df.drop_duplicates(keep='last',inplace=True)\n",
        "df.reset_index(inplace=True)\n",
        "df.drop(columns='index',inplace= True)"
      ],
      "execution_count": 14,
      "outputs": []
    },
    {
      "cell_type": "code",
      "metadata": {
        "id": "AMSvR5o-aWgw"
      },
      "source": [
        "#now I will index my plant column since it is what i will need to refrence \n",
        "index_plant=  df.columns.get_loc('plant')"
      ],
      "execution_count": 15,
      "outputs": []
    },
    {
      "cell_type": "code",
      "metadata": {
        "id": "FjTgPDvoaWgw"
      },
      "source": [
        "# changing the : to spaces makes the job a bit easier so i will do that \n",
        "df['plant']=df['plant'].str.replace(\":\",' ')"
      ],
      "execution_count": 16,
      "outputs": []
    },
    {
      "cell_type": "code",
      "metadata": {
        "id": "L-Mc3ZNtaWgx"
      },
      "source": [
        "# creating a new column for the plant Ids \n",
        "df['plant_id']= None\n",
        "# getting the index for our new column so we can refrence it\n",
        "index_plant_id= df.columns.get_loc('plant_id')\n",
        "#setting the pattern of regex for plant_ids, I want all numbers\n",
        "plant_id_pattern= r'\\d+'\n",
        "# looping to get all plant_ids per person and adding them to the new column i created up top\n",
        "for row in range(0,len(df)):\n",
        "    #to regex I need thepattern ii'm looking for, and the location I need to go look at, I will group them at the end so I have the numbers next to each other \n",
        "    plant_id= re.search(plant_id_pattern,df.iat[row,index_plant]).group() \n",
        "    #here i'm refrensing the index for the column I created and having the ids go in that column\n",
        "    df.iat[row,index_plant_id]=plant_id\n",
        "    \n"
      ],
      "execution_count": 17,
      "outputs": []
    },
    {
      "cell_type": "code",
      "metadata": {
        "id": "5GLYDAfPaWgx"
      },
      "source": [
        "# doing what I did uptop for plant names now \n",
        "df['plant_name']=None\n",
        "index_plant_name= df.columns.get_loc('plant_name')\n",
        "# i want my names to be all alphabets, except for the alphabet that comes after the white spapce since tht is teh condition \n",
        "plant_name_pattern= r'[a-zA-Z]+[^\\s]'\n",
        "for row in range(0,len(df)):\n",
        "    plant_name= re.findall(plant_name_pattern,df.iat[row,index_plant])                                          \n",
        "    df.iat[row,index_plant_name]=plant_name\n",
        "#changing the list to string, since .gropu() gave me an error and I would very much like my datapoints to be hashable\n",
        "df['plant_name'] = [','.join(map(str, l)) for l in df['plant_name']]\n",
        "\n",
        "\n"
      ],
      "execution_count": 18,
      "outputs": []
    },
    {
      "cell_type": "code",
      "metadata": {
        "id": "j3ZHwlg3aWgy"
      },
      "source": [
        "#and doing it once more to get the conditions\n",
        "df['plant_condition']=None\n",
        "index_plant_condition= df.columns.get_loc('plant_condition')\n",
        "#getting the last stand alone character as it is the condition\n",
        "plant_condition_pattern= r'.\\Z'\n",
        "for row in range(0,len(df)):\n",
        "    plant_condition= re.findall(plant_condition_pattern,df.iat[row,index_plant])                                                 \n",
        "    df.iat[row,index_plant_condition]=plant_condition\n",
        "\n",
        "df['plant_condition'] = [','.join(map(str, l)) for l in df['plant_condition']]\n",
        "\n",
        "\n"
      ],
      "execution_count": 19,
      "outputs": []
    },
    {
      "cell_type": "code",
      "metadata": {
        "id": "mvTexckFaWgz"
      },
      "source": [
        "df.replace(['',' '], np.NaN, inplace=True)\n"
      ],
      "execution_count": 20,
      "outputs": []
    },
    {
      "cell_type": "code",
      "metadata": {
        "colab": {
          "base_uri": "https://localhost:8080/"
        },
        "id": "WuC0YXoYaWg0",
        "outputId": "eae1f2e1-7b87-4dbb-adf8-247c21cb8aaa"
      },
      "source": [
        "df.isna().sum()"
      ],
      "execution_count": 21,
      "outputs": [
        {
          "output_type": "execute_result",
          "data": {
            "text/plain": [
              "id                 0\n",
              "plant              0\n",
              "plant_id           0\n",
              "plant_name         1\n",
              "plant_condition    1\n",
              "dtype: int64"
            ]
          },
          "metadata": {},
          "execution_count": 21
        }
      ]
    },
    {
      "cell_type": "code",
      "metadata": {
        "id": "Sl-2n3UtaWg1"
      },
      "source": [
        "df.dropna(inplace=True)\n",
        "df.reset_index(inplace=True)\n",
        "df.drop(columns='index',inplace= True)"
      ],
      "execution_count": 22,
      "outputs": []
    },
    {
      "cell_type": "code",
      "metadata": {
        "colab": {
          "base_uri": "https://localhost:8080/"
        },
        "id": "Ggq4tVI7aWg1",
        "outputId": "b41ea5d2-af8a-4bdb-ba19-7745ef47597b"
      },
      "source": [
        "df.plant_condition.unique()"
      ],
      "execution_count": 23,
      "outputs": [
        {
          "output_type": "execute_result",
          "data": {
            "text/plain": [
              "array(['P', 'S', 'Q'], dtype=object)"
            ]
          },
          "metadata": {},
          "execution_count": 23
        }
      ]
    },
    {
      "cell_type": "code",
      "metadata": {
        "colab": {
          "base_uri": "https://localhost:8080/"
        },
        "id": "No7P2yW1aWg2",
        "outputId": "f0abcf7d-9728-47c0-aa4d-8c1a5942dacd"
      },
      "source": [
        "# since i'm assuming that this is a large data set I will subtract number of plant names from it's value counts to get repeated plant names\n",
        "plants_names_repeated= len(df['plant_name'])-len(df['plant_name'].value_counts())\n",
        "plants_names_repeated"
      ],
      "execution_count": 24,
      "outputs": [
        {
          "output_type": "execute_result",
          "data": {
            "text/plain": [
              "1"
            ]
          },
          "metadata": {},
          "execution_count": 24
        }
      ]
    },
    {
      "cell_type": "code",
      "metadata": {
        "colab": {
          "base_uri": "https://localhost:8080/"
        },
        "id": "gYfz1PMlaWg2",
        "outputId": "b2a81e43-902e-49d5-b763-82eba1dc7ecd"
      },
      "source": [
        "#and will do the same for the plant ids \n",
        "plant_ids_repleated= len(df['plant_id'])-len(df['plant_id'].unique())\n",
        "plant_ids_repleated"
      ],
      "execution_count": 25,
      "outputs": [
        {
          "output_type": "execute_result",
          "data": {
            "text/plain": [
              "21"
            ]
          },
          "metadata": {},
          "execution_count": 25
        }
      ]
    },
    {
      "cell_type": "markdown",
      "metadata": {
        "id": "b_9sjq-waWg2"
      },
      "source": [
        "#### I really don't know what would be asmart move regarding the plant Ids, since removing 21 data points from 72 is 29.17% of my data, and I don't feel comfortable deleting doseespesially since only one of the pant names is a repeat, therefore I might drop the entire column"
      ]
    },
    {
      "cell_type": "code",
      "metadata": {
        "id": "OJ-BDQd4aWg3"
      },
      "source": [
        "df.drop(columns='plant_id',inplace=True)"
      ],
      "execution_count": 26,
      "outputs": []
    },
    {
      "cell_type": "code",
      "metadata": {
        "colab": {
          "base_uri": "https://localhost:8080/"
        },
        "id": "kFhKAOOxaWg4",
        "outputId": "48b56056-6bea-4474-e724-197c574bce23"
      },
      "source": [
        "df['plant_condition'].value_counts()\n",
        "#two of the plant conditions are incorrect"
      ],
      "execution_count": 27,
      "outputs": [
        {
          "output_type": "execute_result",
          "data": {
            "text/plain": [
              "P    37\n",
              "S    35\n",
              "Q     1\n",
              "Name: plant_condition, dtype: int64"
            ]
          },
          "metadata": {},
          "execution_count": 27
        }
      ]
    },
    {
      "cell_type": "markdown",
      "metadata": {
        "id": "x1vMReICaWg4"
      },
      "source": [
        "#### i think Q was supposed to be P since they come after one another in the alphabet however, they are very far from one another on the keyboard so it's hard to tell of that would be a valid mistake, Q is closer to S on the keyboard, but also not it's immedietae neighbor so i won't be changing it to either of the conditions, since i'm assuimg that this is a very big data set I think it would be safe to drop the unaaceptable conditions\n",
        "\n"
      ]
    },
    {
      "cell_type": "code",
      "metadata": {
        "id": "BZKbivvBaWg5"
      },
      "source": [
        "df= df[df['plant_condition'].isin(['P','S'])]"
      ],
      "execution_count": 28,
      "outputs": []
    },
    {
      "cell_type": "code",
      "metadata": {
        "id": "ogQlKIEvaWg5"
      },
      "source": [
        "#getting plant per person count and adding it to a column\n",
        "count = df['id'].value_counts()\n",
        "count_dic= count.to_dict()\n",
        "df['counts'] = df['id'].map(count_dic) "
      ],
      "execution_count": 29,
      "outputs": []
    },
    {
      "cell_type": "code",
      "metadata": {
        "id": "hFDFDSQqaWg5"
      },
      "source": [
        "#rearrenging the columns to look better \n",
        "df = df[['id','plant_name','plant_condition','counts']]"
      ],
      "execution_count": 30,
      "outputs": []
    },
    {
      "cell_type": "code",
      "metadata": {
        "id": "SdllZ429aWg6"
      },
      "source": [
        "#sorting the dataframe so people who have the most plants are on top\n",
        "df=df.sort_values(by=['counts'], ascending=False)"
      ],
      "execution_count": 31,
      "outputs": []
    },
    {
      "cell_type": "code",
      "metadata": {
        "id": "tKWy6-HxaWg7"
      },
      "source": [
        "df.reset_index(inplace=True)\n",
        "df.drop(columns='index',inplace= True)"
      ],
      "execution_count": 32,
      "outputs": []
    },
    {
      "cell_type": "code",
      "metadata": {
        "id": "l9QRmwCcaWg7"
      },
      "source": [
        "#exporting the dataframe as a csv file \n",
        "df.to_csv('data-based-on-number-of-plants.csv')"
      ],
      "execution_count": 37,
      "outputs": []
    },
    {
      "cell_type": "code",
      "metadata": {
        "colab": {
          "base_uri": "https://localhost:8080/",
          "height": 427
        },
        "id": "sE8evjlWaWg7",
        "outputId": "16e17edd-1fa8-4054-f6a0-2a1cc2824ffb"
      },
      "source": [
        "#plotting plant conditions on a pie chart\n",
        "fig = plt.figure(figsize =(10, 7))\n",
        "\n",
        "data =df['plant_condition'].value_counts()\n",
        "plt.pie(data,labels=df['plant_condition'].unique(),autopct='%1.1f%%')\n",
        "plt.title(\"plant conditions\");\n"
      ],
      "execution_count": 38,
      "outputs": [
        {
          "output_type": "display_data",
          "data": {
            "image/png": "[encoded data removed]",
            "text/plain": [
              "<Figure size 720x504 with 1 Axes>"
            ]
          },
          "metadata": {}
        }
      ]
    },
    {
      "cell_type": "code",
      "metadata": {
        "colab": {
          "base_uri": "https://localhost:8080/",
          "height": 464
        },
        "id": "z5_VcXlFaWg8",
        "outputId": "571b8983-c900-4067-a317-542805ce3271"
      },
      "source": [
        "# virtualizing the distribution of number of plants each person has \n",
        "fig = plt.figure(figsize =(10, 7))\n",
        "plt.title('distibution of number of plants per person')\n",
        "plt.hist(df['id'].value_counts(),bins=5,range=(1,6), align='left')\n",
        "plt.xlabel(\"number of planst\")\n",
        "plt.ylabel(\"number of people\");\n",
        "# obviosly most people pnly have 1 plant \n",
        "# only one person has 5 plants, and 4\n",
        "#5<4<3<2<1"
      ],
      "execution_count": 39,
      "outputs": [
        {
          "output_type": "display_data",
          "data": {
            "image/png": "[encoded data removed]",
            "text/plain": [
              "<Figure size 720x504 with 1 Axes>"
            ]
          },
          "metadata": {}
        }
      ]
    },
    {
      "cell_type": "code",
      "metadata": {
        "colab": {
          "base_uri": "https://localhost:8080/",
          "height": 437
        },
        "id": "iE8r31LVaWg8",
        "outputId": "8f455ebf-2e31-43cd-9c2f-ae100c21ecb3"
      },
      "source": [
        "#condition between having more plants and \n",
        "sns.set_theme(style=\"white\")\n",
        "\n",
        "sns.relplot(x=\"plant_condition\", y=\"counts\", size=df['id'],\n",
        "            sizes=(40, 400), alpha=.3,\n",
        "            height=6, data=df);\n",
        "#people who have more than 1 plant mostly have condistion s, people who only have one plant mostly have condition p "
      ],
      "execution_count": 40,
      "outputs": [
        {
          "output_type": "display_data",
          "data": {
            "image/png": "[encoded data removed]",
            "text/plain": [
              "<Figure size 499.6x432 with 1 Axes>"
            ]
          },
          "metadata": {}
        }
      ]
    }
  ]
}